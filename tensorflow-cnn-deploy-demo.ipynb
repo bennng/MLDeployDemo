{
  "nbformat": 4,
  "nbformat_minor": 0,
  "metadata": {
    "colab": {
      "name": "MlDeployDemo.ipynb",
      "provenance": [],
      "include_colab_link": true
    },
    "kernelspec": {
      "name": "python3",
      "display_name": "Python 3"
    }
  },
  "cells": [
    {
      "cell_type": "markdown",
      "metadata": {
        "id": "view-in-github",
        "colab_type": "text"
      },
      "source": [
        "<a href=\"https://colab.research.google.com/github/bennng/MLDeployDemo/blob/master/MlDeployDemo.ipynb\" target=\"_parent\"><img src=\"https://colab.research.google.com/assets/colab-badge.svg\" alt=\"Open In Colab\"/></a>"
      ]
    },
    {
      "cell_type": "markdown",
      "metadata": {
        "id": "imR79kVKYIor",
        "colab_type": "text"
      },
      "source": [
        "# Tensorflow Convolutional Network Lab Exercise \n",
        "1. Convolutional network classifier\n",
        "2. Saving the Model to a file\n",
        "3. Loading and calling the model from the file\n",
        "\n",
        "Credits: Starter code is based on the work by Stemplicity https://www.youtube.com/watch?v=zpKm8OxDBwE&t=988s\n",
        "This was an early lab for me to understand the workflow for developing saving and deploying a model to production."
      ]
    },
    {
      "cell_type": "markdown",
      "metadata": {
        "id": "jUaJt2BkcFSX",
        "colab_type": "text"
      },
      "source": [
        "Importing the Tensorflow libraries and printing to verify the version of TF"
      ]
    },
    {
      "cell_type": "code",
      "metadata": {
        "id": "y4oj0Tc6X_dP",
        "colab_type": "code",
        "colab": {}
      },
      "source": [
        "import tensorflow as tf\n",
        "from tensorflow import keras \n",
        "print(tf.__version__)"
      ],
      "execution_count": 0,
      "outputs": []
    },
    {
      "cell_type": "markdown",
      "metadata": {
        "id": "k3yzTMQOXudv",
        "colab_type": "text"
      },
      "source": [
        "Importing other needed libraries numpy for the math, matplotlib for the charts and displaying the data, os and subprocess for supporting functions."
      ]
    },
    {
      "cell_type": "code",
      "metadata": {
        "id": "N7KxeRgFEcMx",
        "colab_type": "code",
        "colab": {}
      },
      "source": [
        "import numpy as np\n",
        "import matplotlib.pyplot as plt \n",
        "import os\n",
        "import subprocess"
      ],
      "execution_count": 0,
      "outputs": []
    },
    {
      "cell_type": "markdown",
      "metadata": {
        "id": "ZFwKYfskY3_w",
        "colab_type": "text"
      },
      "source": [
        "Here we download the MNist dataset. The idea is to be able to classify images of clothing based on this images from this data set."
      ]
    },
    {
      "cell_type": "code",
      "metadata": {
        "id": "gBTzPClvMY_T",
        "colab_type": "code",
        "outputId": "5da13a7f-ca1a-4e8d-d02e-f9476707a1a9",
        "colab": {
          "base_uri": "https://localhost:8080/",
          "height": 204
        }
      },
      "source": [
        "\n",
        "\n",
        "fashion_mnist = keras.datasets.fashion_mnist\n",
        "\n",
        "(trn_images, trn_labels), (tst_images, tst_labels) = fashion_mnist.load_data()\n",
        "\n",
        "trn_images = trn_images / 255.0\n",
        "tst_images = tst_images / 255.0\n",
        "\n",
        "trn_images = trn_images.reshape(trn_images.shape[0], 28, 28, 1)\n",
        "tst_images = tst_images.reshape(tst_images.shape[0], 28, 28, 1)\n",
        "# Specifying the classes for the problem\n",
        "class_names = ['tshirt', 'trouser', 'pullover', 'dress', 'coat', 'sandal', 'shirt', 'sneaker', 'bag', 'ankle boot' ]\n",
        "print('\\ntrn_images.shape: {}, of  {}'.format(trn_images.shape, trn_images.dtype))\n",
        "print('tst_images.shape: {}, of  {}'.format(tst_images.shape, tst_images.dtype))"
      ],
      "execution_count": 6,
      "outputs": [
        {
          "output_type": "stream",
          "text": [
            "Downloading data from https://storage.googleapis.com/tensorflow/tf-keras-datasets/train-labels-idx1-ubyte.gz\n",
            "32768/29515 [=================================] - 0s 0us/step\n",
            "Downloading data from https://storage.googleapis.com/tensorflow/tf-keras-datasets/train-images-idx3-ubyte.gz\n",
            "26427392/26421880 [==============================] - 0s 0us/step\n",
            "Downloading data from https://storage.googleapis.com/tensorflow/tf-keras-datasets/t10k-labels-idx1-ubyte.gz\n",
            "8192/5148 [===============================================] - 0s 0us/step\n",
            "Downloading data from https://storage.googleapis.com/tensorflow/tf-keras-datasets/t10k-images-idx3-ubyte.gz\n",
            "4423680/4422102 [==============================] - 0s 0us/step\n",
            "\n",
            "trn_images.shape: (60000, 28, 28, 1), of  float64\n",
            "tst_images.shape: (10000, 28, 28, 1), of  float64\n"
          ],
          "name": "stdout"
        }
      ]
    },
    {
      "cell_type": "markdown",
      "metadata": {
        "id": "tGrPONZHY_n9",
        "colab_type": "text"
      },
      "source": [
        "Here we are creating the Model. Using keras we build a convolutional model. Model uses the 'relu' activation that takes in an image with the dimensions of 28 by 28 and a SoftMax activation function. "
      ]
    },
    {
      "cell_type": "code",
      "metadata": {
        "id": "y_z6f3MdSYgt",
        "colab_type": "code",
        "outputId": "150ec3a4-6101-43f9-9101-dd3679442de3",
        "colab": {
          "base_uri": "https://localhost:8080/",
          "height": 1000
        }
      },
      "source": [
        " model = keras.Sequential([\n",
        "                          keras.layers.Conv2D(input_shape=(28, 28, 1), filters=8, kernel_size=3, \n",
        "                                              strides=2, activation='relu', name='Conv1'),\n",
        "                          keras.layers.Flatten(),\n",
        "                          keras.layers.Dense(10, activation=tf.nn.softmax, name='Softmax')\n",
        "                          ])\n",
        "model.summary()\n",
        "testing = False\n",
        "epochs = 20\n",
        "# This is where we train the model. Model uses the AdamOptimizer for training \n",
        "model.compile(optimizer=tf.train.AdamOptimizer(), \n",
        "             loss='sparse_categorical_crossentropy', metrics=['accuracy'])\n",
        "model.fit(trn_images, trn_labels, epochs=epochs)\n",
        "\n",
        "test_loss, test_acc = model.evaluate(tst_images, tst_labels)\n",
        "print('\\nTest accuracy: {}'.format(test_acc))"
      ],
      "execution_count": 0,
      "outputs": [
        {
          "output_type": "stream",
          "text": [
            "Model: \"sequential_3\"\n",
            "_________________________________________________________________\n",
            "Layer (type)                 Output Shape              Param #   \n",
            "=================================================================\n",
            "Conv1 (Conv2D)               (None, 13, 13, 8)         80        \n",
            "_________________________________________________________________\n",
            "flatten_3 (Flatten)          (None, 1352)              0         \n",
            "_________________________________________________________________\n",
            "Softmax (Dense)              (None, 10)                13530     \n",
            "=================================================================\n",
            "Total params: 13,610\n",
            "Trainable params: 13,610\n",
            "Non-trainable params: 0\n",
            "_________________________________________________________________\n",
            "Train on 60000 samples\n",
            "Epoch 1/20\n",
            "60000/60000 [==============================] - 8s 135us/sample - loss: 0.5526 - acc: 0.8076\n",
            "Epoch 2/20\n",
            "60000/60000 [==============================] - 8s 136us/sample - loss: 0.4152 - acc: 0.8536\n",
            "Epoch 3/20\n",
            "60000/60000 [==============================] - 8s 133us/sample - loss: 0.3794 - acc: 0.8667\n",
            "Epoch 4/20\n",
            "60000/60000 [==============================] - 8s 133us/sample - loss: 0.3603 - acc: 0.8739\n",
            "Epoch 5/20\n",
            "60000/60000 [==============================] - 8s 134us/sample - loss: 0.3464 - acc: 0.8774\n",
            "Epoch 6/20\n",
            "60000/60000 [==============================] - 8s 133us/sample - loss: 0.3347 - acc: 0.8815\n",
            "Epoch 7/20\n",
            "60000/60000 [==============================] - 8s 130us/sample - loss: 0.3243 - acc: 0.8848\n",
            "Epoch 8/20\n",
            "60000/60000 [==============================] - 8s 134us/sample - loss: 0.3157 - acc: 0.8877\n",
            "Epoch 9/20\n",
            "60000/60000 [==============================] - 8s 134us/sample - loss: 0.3070 - acc: 0.8906\n",
            "Epoch 10/20\n",
            "60000/60000 [==============================] - 8s 135us/sample - loss: 0.2988 - acc: 0.8944\n",
            "Epoch 11/20\n",
            "60000/60000 [==============================] - 9s 142us/sample - loss: 0.2912 - acc: 0.8954\n",
            "Epoch 12/20\n",
            "60000/60000 [==============================] - 8s 133us/sample - loss: 0.2853 - acc: 0.8982\n",
            "Epoch 13/20\n",
            "60000/60000 [==============================] - 8s 131us/sample - loss: 0.2792 - acc: 0.8989\n",
            "Epoch 14/20\n",
            "60000/60000 [==============================] - 8s 127us/sample - loss: 0.2742 - acc: 0.9000\n",
            "Epoch 15/20\n",
            "60000/60000 [==============================] - 7s 125us/sample - loss: 0.2688 - acc: 0.9029\n",
            "Epoch 16/20\n",
            "60000/60000 [==============================] - 7s 123us/sample - loss: 0.2642 - acc: 0.9055\n",
            "Epoch 17/20\n",
            "60000/60000 [==============================] - 7s 124us/sample - loss: 0.2611 - acc: 0.9050\n",
            "Epoch 18/20\n",
            "60000/60000 [==============================] - 7s 121us/sample - loss: 0.2573 - acc: 0.9071\n",
            "Epoch 19/20\n",
            "60000/60000 [==============================] - 7s 122us/sample - loss: 0.2536 - acc: 0.9082\n",
            "Epoch 20/20\n",
            "60000/60000 [==============================] - 8s 126us/sample - loss: 0.2496 - acc: 0.9097\n",
            "10000/10000 [==============================] - 1s 63us/sample - loss: 0.3355 - acc: 0.8813\n",
            "\n",
            "Test accuracy: 0.8812999725341797\n"
          ],
          "name": "stdout"
        }
      ]
    },
    {
      "cell_type": "markdown",
      "metadata": {
        "id": "1BNLHJ2LZehN",
        "colab_type": "text"
      },
      "source": [
        "Once the training is complete we save the trained model to a directory. This saved file can then be loaded from another service to make predictions\n"
      ]
    },
    {
      "cell_type": "code",
      "metadata": {
        "id": "wjRnfFkGlVBm",
        "colab_type": "code",
        "outputId": "587658da-cd3c-4a69-bc69-b100734be996",
        "colab": {
          "base_uri": "https://localhost:8080/",
          "height": 292
        }
      },
      "source": [
        "import tempfile\n",
        "\n",
        "Model_DIR = tempfile.gettempdir()\n",
        "version = 1\n",
        "export_path = os.path.join(Model_DIR, str(version))\n",
        "print('export_path = []\\n'.format(export_path))\n",
        "if os.path.isdir(export_path):\n",
        "  print('\\Aready saved a model, cleaning up\\n')\n",
        "  !rm - r{export_path}\n",
        "\n",
        "tf.saved_model.simple_save(\n",
        "    keras.backend.get_session(),\n",
        "    export_path,\n",
        "    inputs = {'input_image': model.input},\n",
        "    outputs={t.name:t for t in model.outputs})\n",
        "\n",
        "print('\\Saved Model:')\n",
        "!ls -l {export_path}"
      ],
      "execution_count": 0,
      "outputs": [
        {
          "output_type": "stream",
          "text": [
            "export_path = []\n",
            "\n",
            "WARNING:tensorflow:From <ipython-input-8-48e034e89dca>:15: simple_save (from tensorflow.python.saved_model.simple_save) is deprecated and will be removed in a future version.\n",
            "Instructions for updating:\n",
            "This function will only be available through the v1 compatibility library as tf.compat.v1.saved_model.simple_save.\n",
            "WARNING:tensorflow:From /usr/local/lib/python3.6/dist-packages/tensorflow_core/python/saved_model/signature_def_utils_impl.py:201: build_tensor_info (from tensorflow.python.saved_model.utils_impl) is deprecated and will be removed in a future version.\n",
            "Instructions for updating:\n",
            "This function will only be available through the v1 compatibility library as tf.compat.v1.saved_model.utils.build_tensor_info or tf.compat.v1.saved_model.build_tensor_info.\n",
            "INFO:tensorflow:Assets added to graph.\n",
            "INFO:tensorflow:No assets to write.\n",
            "INFO:tensorflow:SavedModel written to: /tmp/1/saved_model.pb\n",
            "\\Saved Model:\n",
            "total 248\n",
            "-rw-r--r-- 1 root root 248618 Feb  3 08:37 saved_model.pb\n",
            "drwxr-xr-x 2 root root   4096 Feb  3 08:37 variables\n"
          ],
          "name": "stdout"
        }
      ]
    },
    {
      "cell_type": "markdown",
      "metadata": {
        "id": "CeWySi4BZmxO",
        "colab_type": "text"
      },
      "source": [
        "Documentation of specification on trained models"
      ]
    },
    {
      "cell_type": "code",
      "metadata": {
        "id": "r9XDBoQmvU1y",
        "colab_type": "code",
        "outputId": "8dc05cea-a769-4b55-bb7a-3cae81016f5b",
        "colab": {
          "base_uri": "https://localhost:8080/",
          "height": 272
        }
      },
      "source": [
        "\n",
        "!saved_model_cli show --dir {export_path} --all"
      ],
      "execution_count": 0,
      "outputs": [
        {
          "output_type": "stream",
          "text": [
            "\n",
            "MetaGraphDef with tag-set: 'serve' contains the following SignatureDefs:\n",
            "\n",
            "signature_def['serving_default']:\n",
            "  The given SavedModel SignatureDef contains the following input(s):\n",
            "    inputs['input_image'] tensor_info:\n",
            "        dtype: DT_FLOAT\n",
            "        shape: (-1, 28, 28, 1)\n",
            "        name: Conv1_input_3:0\n",
            "  The given SavedModel SignatureDef contains the following output(s):\n",
            "    outputs['Softmax_3/Softmax:0'] tensor_info:\n",
            "        dtype: DT_FLOAT\n",
            "        shape: (-1, 10)\n",
            "        name: Softmax_3/Softmax:0\n",
            "  Method name is: tensorflow/serving/predict\n"
          ],
          "name": "stdout"
        }
      ]
    },
    {
      "cell_type": "markdown",
      "metadata": {
        "id": "4ZE1zqx2aBU8",
        "colab_type": "text"
      },
      "source": [
        "Download Tensorflow Serving to serve your saved model."
      ]
    },
    {
      "cell_type": "code",
      "metadata": {
        "id": "kGqh1KHevq3w",
        "colab_type": "code",
        "outputId": "fa224fee-7936-4e85-f172-dcd84d63ee18",
        "colab": {
          "base_uri": "https://localhost:8080/",
          "height": 581
        }
      },
      "source": [
        "!echo \"deb http://storage.googleapis.com/tensorflow-serving-apt stable tensorflow-model-server tensorflow-model-server-universal\" | tee /etc/apt/sources.list.d/tensorflow-serving.list && \\\n",
        "curl https://storage.googleapis.com/tensorflow-serving-apt/tensorflow-serving.release.pub.gpg | apt-key add -\n",
        "!apt update"
      ],
      "execution_count": 0,
      "outputs": [
        {
          "output_type": "stream",
          "text": [
            "deb http://storage.googleapis.com/tensorflow-serving-apt stable tensorflow-model-server tensorflow-model-server-universal\n",
            "  % Total    % Received % Xferd  Average Speed   Time    Time     Time  Current\n",
            "                                 Dload  Upload   Total   Spent    Left  Speed\n",
            "\r  0     0    0     0    0     0      0      0 --:--:-- --:--:-- --:--:--     0\r100  2943  100  2943    0     0   8837      0 --:--:-- --:--:-- --:--:--  8837\n",
            "OK\n",
            "Get:1 http://security.ubuntu.com/ubuntu bionic-security InRelease [88.7 kB]\n",
            "Hit:2 http://ppa.launchpad.net/graphics-drivers/ppa/ubuntu bionic InRelease\n",
            "Hit:3 http://archive.ubuntu.com/ubuntu bionic InRelease\n",
            "Get:4 http://archive.ubuntu.com/ubuntu bionic-updates InRelease [88.7 kB]\n",
            "Get:5 http://ppa.launchpad.net/marutter/c2d4u3.5/ubuntu bionic InRelease [15.4 kB]\n",
            "Get:6 http://archive.ubuntu.com/ubuntu bionic-backports InRelease [74.6 kB]\n",
            "Get:7 http://storage.googleapis.com/tensorflow-serving-apt stable InRelease [3,012 B]\n",
            "Get:8 https://cloud.r-project.org/bin/linux/ubuntu bionic-cran35/ InRelease [3,626 B]\n",
            "Ign:9 https://developer.download.nvidia.com/compute/cuda/repos/ubuntu1804/x86_64  InRelease\n",
            "Ign:10 https://developer.download.nvidia.com/compute/machine-learning/repos/ubuntu1804/x86_64  InRelease\n",
            "Hit:11 https://developer.download.nvidia.com/compute/cuda/repos/ubuntu1804/x86_64  Release\n",
            "Get:12 https://developer.download.nvidia.com/compute/machine-learning/repos/ubuntu1804/x86_64  Release [564 B]\n",
            "Get:13 https://developer.download.nvidia.com/compute/machine-learning/repos/ubuntu1804/x86_64  Release.gpg [833 B]\n",
            "Get:14 http://security.ubuntu.com/ubuntu bionic-security/main amd64 Packages [761 kB]\n",
            "Get:15 http://ppa.launchpad.net/marutter/c2d4u3.5/ubuntu bionic/main Sources [1,749 kB]\n",
            "Get:16 http://ppa.launchpad.net/marutter/c2d4u3.5/ubuntu bionic/main amd64 Packages [844 kB]\n",
            "Get:17 http://archive.ubuntu.com/ubuntu bionic-updates/universe amd64 Packages [1,322 kB]\n",
            "Get:18 http://archive.ubuntu.com/ubuntu bionic-updates/main amd64 Packages [1,057 kB]\n",
            "Get:19 https://cloud.r-project.org/bin/linux/ubuntu bionic-cran35/ Packages [81.6 kB]\n",
            "Get:20 http://storage.googleapis.com/tensorflow-serving-apt stable/tensorflow-model-server amd64 Packages [354 B]\n",
            "Get:22 http://storage.googleapis.com/tensorflow-serving-apt stable/tensorflow-model-server-universal amd64 Packages [364 B]\n",
            "Get:23 https://developer.download.nvidia.com/compute/machine-learning/repos/ubuntu1804/x86_64  Packages [30.4 kB]\n",
            "Fetched 6,122 kB in 2s (2,811 kB/s)\n",
            "Reading package lists... Done\n",
            "Building dependency tree       \n",
            "Reading state information... Done\n",
            "19 packages can be upgraded. Run 'apt list --upgradable' to see them.\n"
          ],
          "name": "stdout"
        }
      ]
    },
    {
      "cell_type": "markdown",
      "metadata": {
        "id": "k61aW4KUa6QI",
        "colab_type": "text"
      },
      "source": [
        "Installing the TF server to serve the model"
      ]
    },
    {
      "cell_type": "code",
      "metadata": {
        "id": "Jxp9b-CmxN_5",
        "colab_type": "code",
        "outputId": "44b83712-8987-4eba-a26a-46f1b583565d",
        "colab": {
          "base_uri": "https://localhost:8080/",
          "height": 343
        }
      },
      "source": [
        "!apt-get install tensorflow-model-server"
      ],
      "execution_count": 0,
      "outputs": [
        {
          "output_type": "stream",
          "text": [
            "Reading package lists... Done\n",
            "Building dependency tree       \n",
            "Reading state information... Done\n",
            "The following package was automatically installed and is no longer required:\n",
            "  libnvidia-common-430\n",
            "Use 'apt autoremove' to remove it.\n",
            "The following NEW packages will be installed:\n",
            "  tensorflow-model-server\n",
            "0 upgraded, 1 newly installed, 0 to remove and 19 not upgraded.\n",
            "Need to get 140 MB of archives.\n",
            "After this operation, 0 B of additional disk space will be used.\n",
            "Get:1 http://storage.googleapis.com/tensorflow-serving-apt stable/tensorflow-model-server amd64 tensorflow-model-server all 2.0.0 [140 MB]\n",
            "Fetched 140 MB in 3s (53.6 MB/s)\n",
            "Selecting previously unselected package tensorflow-model-server.\n",
            "(Reading database ... 135004 files and directories currently installed.)\n",
            "Preparing to unpack .../tensorflow-model-server_2.0.0_all.deb ...\n",
            "Unpacking tensorflow-model-server (2.0.0) ...\n",
            "Setting up tensorflow-model-server (2.0.0) ...\n"
          ],
          "name": "stdout"
        }
      ]
    },
    {
      "cell_type": "code",
      "metadata": {
        "id": "v6Lni6ozxbe3",
        "colab_type": "code",
        "colab": {}
      },
      "source": [
        "os.environ['MODEL_DIR'] = Model_DIR"
      ],
      "execution_count": 0,
      "outputs": []
    },
    {
      "cell_type": "markdown",
      "metadata": {
        "id": "s_SqkWibbJmS",
        "colab_type": "text"
      },
      "source": [
        "Running the bash command to support background processes"
      ]
    },
    {
      "cell_type": "code",
      "metadata": {
        "id": "_cp5C_5myW__",
        "colab_type": "code",
        "outputId": "2a515956-67c7-4e47-9f69-7960b6dbe758",
        "colab": {
          "base_uri": "https://localhost:8080/",
          "height": 34
        }
      },
      "source": [
        "%%bash --bg \n",
        "nohup tensorflow_model_server \\\n",
        "  --rest_api_port=8501 \\\n",
        "  --model_name=fashion_model \\\n",
        "  --model_base_path=\"${MODEL_DIR}\" >server.log 2>&1"
      ],
      "execution_count": 0,
      "outputs": [
        {
          "output_type": "stream",
          "text": [
            "Starting job # 0 in a separate thread.\n"
          ],
          "name": "stdout"
        }
      ]
    },
    {
      "cell_type": "markdown",
      "metadata": {
        "id": "oY7Vxs_UbH-H",
        "colab_type": "text"
      },
      "source": [
        "Check the end of the log to verify installed and started"
      ]
    },
    {
      "cell_type": "code",
      "metadata": {
        "id": "HI6dn3eTydE_",
        "colab_type": "code",
        "outputId": "2aeb45d7-cf1e-4121-f5c1-a7e37bb5903e",
        "colab": {
          "base_uri": "https://localhost:8080/",
          "height": 207
        }
      },
      "source": [
        "!tail server.log"
      ],
      "execution_count": 0,
      "outputs": [
        {
          "output_type": "stream",
          "text": [
            "2020-01-04 23:00:14.101504: I external/org_tensorflow/tensorflow/cc/saved_model/reader.cc:54] Reading meta graph with tags { serve }\n",
            "2020-01-04 23:00:14.102713: I external/org_tensorflow/tensorflow/core/platform/cpu_feature_guard.cc:142] Your CPU supports instructions that this TensorFlow binary was not compiled to use: AVX2 AVX512F FMA\n",
            "2020-01-04 23:00:14.115343: I external/org_tensorflow/tensorflow/cc/saved_model/loader.cc:202] Restoring SavedModel bundle.\n",
            "2020-01-04 23:00:14.128712: I external/org_tensorflow/tensorflow/cc/saved_model/loader.cc:311] SavedModel load for tags { serve }; Status: success. Took 28556 microseconds.\n",
            "2020-01-04 23:00:14.129238: I tensorflow_serving/servables/tensorflow/saved_model_warmup.cc:105] No warmup data file found at /tmp/1/assets.extra/tf_serving_warmup_requests\n",
            "2020-01-04 23:00:14.129335: I tensorflow_serving/core/loader_harness.cc:87] Successfully loaded servable version {name: fashion_model version: 1}\n",
            "2020-01-04 23:00:14.130388: I tensorflow_serving/model_servers/server.cc:353] Running gRPC ModelServer at 0.0.0.0:8500 ...\n",
            "[warn] getaddrinfo: address family for nodename not supported\n",
            "2020-01-04 23:00:14.131025: I tensorflow_serving/model_servers/server.cc:373] Exporting HTTP/REST API at:localhost:8501 ...\n",
            "[evhttp_server.cc : 238] NET_LOG: Entering the event loop ...\n"
          ],
          "name": "stdout"
        }
      ]
    },
    {
      "cell_type": "code",
      "metadata": {
        "id": "olX9vIcUylTz",
        "colab_type": "code",
        "outputId": "09fc41e4-7157-4a0c-ba00-10e3f6e8c9e8",
        "colab": {
          "base_uri": "https://localhost:8080/",
          "height": 301
        }
      },
      "source": [
        "\n",
        "\n",
        "def show(idx, title):\n",
        "  plt.figure()\n",
        "  plt.imshow(tst_images[idx].reshape(28,28))\n",
        "  plt.axis('off')\n",
        "  plt.title('\\n\\n{}'.format(title), fontdict={'size': 16})\n",
        "\n",
        "import random\n",
        "rando = random.randint(0,len(tst_images)-1)\n",
        "show(rando, 'An Example Image: {}'.format(class_names[tst_labels[rando]]))"
      ],
      "execution_count": 0,
      "outputs": [
        {
          "output_type": "display_data",
          "data": {
            "image/png": "[encoded data removed]",
            "text/plain": [
              "<Figure size 432x288 with 1 Axes>"
            ]
          },
          "metadata": {
            "tags": []
          }
        }
      ]
    },
    {
      "cell_type": "code",
      "metadata": {
        "id": "msiJlKrRy6S5",
        "colab_type": "code",
        "outputId": "9555d089-5927-42be-ee17-32cc68055eb1",
        "colab": {
          "base_uri": "https://localhost:8080/",
          "height": 54
        }
      },
      "source": [
        "import json\n",
        "data = json.dumps({\"signature_name\": \"serving_default\", \"instances\": tst_images[0:3].tolist()})\n",
        "print('Data: {} ... {}'.format(data[:50], data[len(data)-52:]))"
      ],
      "execution_count": 0,
      "outputs": [
        {
          "output_type": "stream",
          "text": [
            "Data: {\"signature_name\": \"serving_default\", \"instances\": ...  [0.0], [0.0], [0.0], [0.0], [0.0], [0.0], [0.0]]]]}\n"
          ],
          "name": "stdout"
        }
      ]
    },
    {
      "cell_type": "code",
      "metadata": {
        "id": "uiJl-8cqzEVy",
        "colab_type": "code",
        "outputId": "7926c4b3-489a-4f00-93ef-ba07031642c0",
        "colab": {
          "base_uri": "https://localhost:8080/",
          "height": 301
        }
      },
      "source": [
        "!pip install -q requests\n",
        "\n",
        "import requests\n",
        "headers = {\"content-type\": \"application/json\"}\n",
        "json_response = requests.post('http://localhost:8501/v1/models/fashion_model:predict', data=data, headers=headers)\n",
        "predictions = json.loads(json_response.text)['predictions']\n",
        "\n",
        "show(0, 'The model thought this was a {} (class {}), and it was actually a {} (class {})'.format(\n",
        "  class_names[np.argmax(predictions[0])], tst_labels[0], class_names[np.argmax(predictions[0])], tst_labels[0]))"
      ],
      "execution_count": 0,
      "outputs": [
        {
          "output_type": "display_data",
          "data": {
            "image/png": "[encoded data removed]",
            "text/plain": [
              "<Figure size 432x288 with 1 Axes>"
            ]
          },
          "metadata": {
            "tags": []
          }
        }
      ]
    },
    {
      "cell_type": "code",
      "metadata": {
        "id": "yuo5ASn0zeGp",
        "colab_type": "code",
        "outputId": "0035b214-bd19-4a81-b87f-fd3e412a4c0c",
        "colab": {
          "base_uri": "https://localhost:8080/",
          "height": 1000
        }
      },
      "source": [
        "headers = {\"content-type\": \"application/json\"}\n",
        "json_response = requests.post('http://localhost:8501/v1/models/fashion_model/versions/1:predict', data=data, headers=headers)\n",
        "predictions = json.loads(json_response.text)['predictions']\n",
        "\n",
        "for i in range(0,4):\n",
        "  show(i, 'The model thought this was a {} (class {}), and it was actually a {} (class {})'.format(\n",
        "    class_names[np.argmax(predictions[i])], tst_labels[i], class_names[np.argmax(predictions[i])], tst_labels[i]))"
      ],
      "execution_count": 0,
      "outputs": [
        {
          "output_type": "error",
          "ename": "IndexError",
          "evalue": "ignored",
          "traceback": [
            "\u001b[0;31m---------------------------------------------------------------------------\u001b[0m",
            "\u001b[0;31mIndexError\u001b[0m                                Traceback (most recent call last)",
            "\u001b[0;32m<ipython-input-27-bcae406e103c>\u001b[0m in \u001b[0;36m<module>\u001b[0;34m()\u001b[0m\n\u001b[1;32m      5\u001b[0m \u001b[0;32mfor\u001b[0m \u001b[0mi\u001b[0m \u001b[0;32min\u001b[0m \u001b[0mrange\u001b[0m\u001b[0;34m(\u001b[0m\u001b[0;36m0\u001b[0m\u001b[0;34m,\u001b[0m\u001b[0;36m4\u001b[0m\u001b[0;34m)\u001b[0m\u001b[0;34m:\u001b[0m\u001b[0;34m\u001b[0m\u001b[0;34m\u001b[0m\u001b[0m\n\u001b[1;32m      6\u001b[0m   show(i, 'The model thought this was a {} (class {}), and it was actually a {} (class {})'.format(\n\u001b[0;32m----> 7\u001b[0;31m     class_names[np.argmax(predictions[i])], tst_labels[i], class_names[np.argmax(predictions[i])], tst_labels[i]))\n\u001b[0m",
            "\u001b[0;31mIndexError\u001b[0m: list index out of range"
          ]
        },
        {
          "output_type": "display_data",
          "data": {
            "image/png": "[encoded data removed]",
            "text/plain": [
              "<Figure size 432x288 with 1 Axes>"
            ]
          },
          "metadata": {
            "tags": []
          }
        },
        {
          "output_type": "display_data",
          "data": {
            "image/png": "[encoded data removed]",
            "text/plain": [
              "<Figure size 432x288 with 1 Axes>"
            ]
          },
          "metadata": {
            "tags": []
          }
        },
        {
          "output_type": "display_data",
          "data": {
            "image/png": "[encoded data removed]",
            "text/plain": [
              "<Figure size 432x288 with 1 Axes>"
            ]
          },
          "metadata": {
            "tags": []
          }
        }
      ]
    }
  ]
}
